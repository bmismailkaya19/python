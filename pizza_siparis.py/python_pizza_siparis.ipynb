{
 "cells": [
  {
   "cell_type": "code",
   "execution_count": 1,
   "metadata": {},
   "outputs": [
    {
     "name": "stdout",
     "output_type": "stream",
     "text": [
      "İşte Pizza'ya hoşgeldiniz...\n",
      "Toplam tutarı: 30 TL.\n"
     ]
    }
   ],
   "source": [
    "print(\"İşte Pizza'ya hoşgeldiniz...\")\n",
    " \n",
    "boyut = input('Ne boyut bir pizza istiyorsunuz? \"S\", \"M\" veya \"L\"')\n",
    "ekstra_peynir = input('Fazladan peynir istiyor musunuz? \"Evet\" veya \"Hayır\"')\n",
    "icecek = input ('İçecek alıyor musunuz? \"Evet\" veya \"Hayır\"')\n",
    " \n",
    "hesap = 0\n",
    " \n",
    "if boyut == \"S\":\n",
    "  hesap += 20\n",
    "elif boyut == \"M\":\n",
    "  hesap += 25\n",
    "else:\n",
    "  hesap += 30\n",
    " \n",
    "if ekstra_peynir == \"Evet\":\n",
    "  if boyut == \"S\":\n",
    "    hesap += 2\n",
    "  else:\n",
    "    hesap += 3\n",
    "    \n",
    "if icecek == \"Evet\":\n",
    "  hesap += 2\n",
    "  \n",
    "print(f\"Toplam tutarı: {hesap} TL.\")"
   ]
  }
 ],
 "metadata": {
  "kernelspec": {
   "display_name": "Python 3.10.5 64-bit (system)",
   "language": "python",
   "name": "python3"
  },
  "language_info": {
   "codemirror_mode": {
    "name": "ipython",
    "version": 3
   },
   "file_extension": ".py",
   "mimetype": "text/x-python",
   "name": "python",
   "nbconvert_exporter": "python",
   "pygments_lexer": "ipython3",
   "version": "3.10.5"
  },
  "orig_nbformat": 4,
  "vscode": {
   "interpreter": {
    "hash": "fc4cd5f078385289ebaac9d82baab86569e046159478e19b583cbcfd9ef226a0"
   }
  }
 },
 "nbformat": 4,
 "nbformat_minor": 2
}
