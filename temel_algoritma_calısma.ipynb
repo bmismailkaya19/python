{
 "cells": [
  {
   "cell_type": "markdown",
   "id": "e05a8b14",
   "metadata": {},
   "source": [
    "1- Klavyeden girilen sayıya kadar olan sayıları alt alta yazdıran python kodunu yazınız."
   ]
  },
  {
   "cell_type": "code",
   "execution_count": null,
   "id": "1e1bb846",
   "metadata": {},
   "outputs": [],
   "source": [
    "sayi = int(input(\"Lütfen sayiyi giriniz:\"))\n",
    "for i in range(0,sayi):\n",
    "    print(i)"
   ]
  },
  {
   "cell_type": "markdown",
   "id": "3df83cc2",
   "metadata": {},
   "source": [
    "2 _Klavyeden kısa kenar uzunluğu ve uzun kenar uzunluğu girilen dikdörtgenin alan ve çevresini hesaplayan python kodunu yazınız."
   ]
  },
  {
   "cell_type": "code",
   "execution_count": null,
   "id": "e609ef48",
   "metadata": {},
   "outputs": [],
   "source": [
    "k_k = int(input(\"Kısa kenari giriniz :\"))\n",
    "u_k = int(input(\"Uzun kenari giriniz:\"))\n",
    "dik_c =2*(k_k+u_k)\n",
    "dik_a = k_k * u_k\n",
    "print(\"Dikdörtgen alanı :{0} dikdörtgen cevresi : {1} \".format(dik_a,dik_c))"
   ]
  },
  {
   "cell_type": "markdown",
   "id": "b3bcba2f",
   "metadata": {},
   "source": [
    "3_Klavyeden girilen bir metnin harflerini alt alta yazdıran python kodunu yazınız."
   ]
  },
  {
   "cell_type": "code",
   "execution_count": null,
   "id": "486e4f9c",
   "metadata": {},
   "outputs": [],
   "source": [
    "metin = input(\"Lütfen metni giriniz :\")\n",
    "sayac = 0\n",
    "while sayac < len(metin):\n",
    "    print(metin [sayac])\n",
    "    sayac +=1"
   ]
  },
  {
   "cell_type": "markdown",
   "id": "1c3a07dd",
   "metadata": {},
   "source": [
    "4_Klavyeden girilen iki sayı arasındaki sayıları toplayan python kodunu yazınız."
   ]
  },
  {
   "cell_type": "code",
   "execution_count": null,
   "id": "deac568d",
   "metadata": {},
   "outputs": [],
   "source": [
    "ilk_sayi = int(input(\"1. sayiyi giriniz :\"))\n",
    "son_sayi = int(input(\"2. sayiyi giriniz :\"))\n",
    "toplam = 0\n",
    "for i in range(ilk_sayi,son_sayi):\n",
    "    toplam +=i\n",
    "print(\"İki sayi arasındaki sayilarin toplamı : \",toplam)\n"
   ]
  },
  {
   "cell_type": "markdown",
   "id": "b1c59f2d",
   "metadata": {},
   "source": [
    "5_ Klavyeden girilen sayının asal sayı olup olmadığını bulan python kodunu yazınız."
   ]
  },
  {
   "cell_type": "code",
   "execution_count": 25,
   "id": "a35f9411",
   "metadata": {},
   "outputs": [
    {
     "name": "stdout",
     "output_type": "stream",
     "text": [
      "Lütfen sayiyi giriniz :8\n",
      "Girilen sayi asal degil\n"
     ]
    }
   ],
   "source": [
    "sayac = 0\n",
    "sayi = int(input(\"Lütfen sayiyi giriniz :\"))\n",
    "for i in range(2,sayi):\n",
    "    if sayi % i == 0:\n",
    "        sayac +=1\n",
    "if sayac == 0 :\n",
    "    print(\"Girilen sayi asal\")\n",
    "else : print(\"Girilen sayi asal degil\")    "
   ]
  },
  {
   "cell_type": "markdown",
   "id": "4060038f",
   "metadata": {},
   "source": [
    "6_1 den kullanıcının girmiş olduğu sayıya kadar olan tek ve çift sayıların toplamını ayrı ayrı bulan ve sonucu ekranda gösteren python programını yaziniz."
   ]
  },
  {
   "cell_type": "code",
   "execution_count": 31,
   "id": "80a19f01",
   "metadata": {},
   "outputs": [
    {
     "name": "stdout",
     "output_type": "stream",
     "text": [
      "Lütfen sayiyi giriniz:5\n",
      "Girilen sayiya kadar olan tek sayilarin toplamı : 2 Çift sayilarin toplamı :6\n"
     ]
    }
   ],
   "source": [
    "gir_sayi = int(input(\"Lütfen sayiyi giriniz:\"))\n",
    "tek_top = 0\n",
    "cift_top = 0\n",
    "for i in range(1,gir_sayi):\n",
    "    if i%2 ==0:\n",
    "        cift_top +=i\n",
    "    else : tek_top +=1\n",
    "print(\"Girilen sayiya kadar olan tek sayilarin toplamı : {0} Çift sayilarin toplamı :{1}\".format(tek_top,cift_top))\n",
    "\n",
    "        "
   ]
  },
  {
   "cell_type": "markdown",
   "id": "565acc43",
   "metadata": {},
   "source": [
    "7_girilen bir kelimedeki sesli kelime sayısını gösteren python kodu"
   ]
  },
  {
   "cell_type": "code",
   "execution_count": null,
   "id": "0275a288",
   "metadata": {},
   "outputs": [],
   "source": [
    "sesli_harfler = \"aeıioöuü\"\n",
    "sayac = 0\n",
    "girilen_kelimeler = []\n",
    "kelime =input(\"Kelimeyi giriniz:\")\n",
    "girilen_kelimeler.append(kelime)\n",
    "for harf in kelime:\n",
    "    if harf in sesli_harfler:\n",
    "        sayac +=1\n",
    "print(f\"{kelime} kelimesinde {sayac} tane sesli harf vardir.Girien kelimeler ise {girilen_kelimeler}dir\")\n"
   ]
  },
  {
   "cell_type": "code",
   "execution_count": null,
   "id": "9ae0f392",
   "metadata": {},
   "outputs": [],
   "source": [
    "sesli_harfler = \"aeıioöuü\"\n",
    "sayac = 0\n",
    "girilen_kelimeler = []\n",
    "kelime = input(\"Kelimeyi giriniz:\")\n",
    "girilen_kelimeler = []\n",
    "girilen_kelimeler.append(kelime)\n",
    "def seslidir(harf):\n",
    "    return harf in sesli_harfler\n",
    "for harf in kelime:\n",
    "    if seslidir(harf):\n",
    "        sayac +=1\n",
    "print(f\"{kelime} kelimesinde {sayac} tane sesli harf vardir.Girien kelimeler ise {girilen_kelimeler}dir\")"
   ]
  },
  {
   "cell_type": "code",
   "execution_count": null,
   "id": "184f08c8",
   "metadata": {},
   "outputs": [],
   "source": [
    "sesli_harfler = 'aeıioöuü'\n",
    "sayaç = 0\n",
    "\n",
    "kelime = input('Bir kelime girin: ')\n",
    "\n",
    "def seslidir(harf):\n",
    "    return harf in sesli_harfler\n",
    "\n",
    "def artır(sayaç):\n",
    "    for harf in kelime:\n",
    "        if seslidir(harf):\n",
    "            sayaç += 1\n",
    "    return sayaç\n",
    "\n",
    "mesaj = '{} kelimesinde {} sesli harf var.'\n",
    "print(mesaj.format(kelime, artır(sayaç)))"
   ]
  },
  {
   "cell_type": "code",
   "execution_count": null,
   "id": "53b112c9",
   "metadata": {},
   "outputs": [],
   "source": [
    "sesli_harfler = 'aeıioöuü'\n",
    "sayaç = 0\n",
    "\n",
    "def kelime_sor():\n",
    "    return input(\"Bir kelime giriniz\")\n",
    "def seslidir(harf):\n",
    "    if harf in sesli_harfler:\n",
    "        return harf\n",
    "def artır(sayac,kelime):\n",
    "    for harf in kelime:\n",
    "        if seslidir(harf):\n",
    "            sayac += 1\n",
    "    return sayac\n",
    "def ekrana_bas(kelime):\n",
    "    print(f\"{kelime} kelimesinde {sayac} tane sesli harf vardir\")\n",
    "def calistir():\n",
    "    kelime = kelime_sor()\n",
    "    ekrana_bas(kelime)\n",
    "\n",
    "calistir()"
   ]
  },
  {
   "cell_type": "markdown",
   "id": "59bab48d",
   "metadata": {},
   "source": [
    "8_Recursion Örnek"
   ]
  },
  {
   "cell_type": "code",
   "execution_count": null,
   "id": "9f3ba1b2",
   "metadata": {},
   "outputs": [],
   "source": [
    "def factorial(x):\n",
    "    if x == 1:\n",
    "        return 1\n",
    "\n",
    "    return x * factorial(x-1)  # 5 * factorial(4)\n",
    "                               # 4 * factrial(3)\n",
    "                               # 3 * factorial(2)\n",
    "                               # 2 * factorial(1)   factoriyel(1) = 1 idi \n",
    "                               # asagıdan yukarıya dogru döndürerek ilerleyecek.\n",
    "\n",
    "factorial(5)"
   ]
  },
  {
   "cell_type": "code",
   "execution_count": null,
   "id": "c73c7c53",
   "metadata": {},
   "outputs": [],
   "source": []
  },
  {
   "cell_type": "code",
   "execution_count": null,
   "id": "7049d174",
   "metadata": {},
   "outputs": [],
   "source": []
  },
  {
   "cell_type": "code",
   "execution_count": null,
   "id": "eeee7553",
   "metadata": {},
   "outputs": [],
   "source": []
  },
  {
   "cell_type": "code",
   "execution_count": null,
   "id": "169242b3",
   "metadata": {},
   "outputs": [],
   "source": []
  },
  {
   "cell_type": "code",
   "execution_count": null,
   "id": "ad7354ea",
   "metadata": {},
   "outputs": [],
   "source": []
  },
  {
   "cell_type": "code",
   "execution_count": null,
   "id": "78eaabcc",
   "metadata": {},
   "outputs": [],
   "source": []
  },
  {
   "cell_type": "code",
   "execution_count": null,
   "id": "d2a3f0cb",
   "metadata": {},
   "outputs": [],
   "source": []
  },
  {
   "cell_type": "code",
   "execution_count": null,
   "id": "40232761",
   "metadata": {},
   "outputs": [],
   "source": []
  },
  {
   "cell_type": "code",
   "execution_count": null,
   "id": "1e6c8a2e",
   "metadata": {},
   "outputs": [],
   "source": []
  },
  {
   "cell_type": "code",
   "execution_count": null,
   "id": "b6ee5411",
   "metadata": {},
   "outputs": [],
   "source": []
  }
 ],
 "metadata": {
  "kernelspec": {
   "display_name": "Python 3 (ipykernel)",
   "language": "python",
   "name": "python3"
  },
  "language_info": {
   "codemirror_mode": {
    "name": "ipython",
    "version": 3
   },
   "file_extension": ".py",
   "mimetype": "text/x-python",
   "name": "python",
   "nbconvert_exporter": "python",
   "pygments_lexer": "ipython3",
   "version": "3.9.12"
  }
 },
 "nbformat": 4,
 "nbformat_minor": 5
}
