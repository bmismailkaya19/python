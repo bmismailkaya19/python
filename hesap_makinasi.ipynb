{
 "cells": [
  {
   "cell_type": "code",
   "execution_count": null,
   "metadata": {},
   "outputs": [
    {
     "name": "stdout",
     "output_type": "stream",
     "text": [
      "********************************\n",
      "İşlem Listesi\n",
      "1. Toplama İşlemi\n",
      "2. Çıkarma İşlemi\n",
      "3. Çarpma İşlemi\n",
      "4. Bölme İşlemi\n",
      "****************************************\n",
      "\n",
      "------Toplama İşlemi------\n",
      "15  +   15    =  30\n",
      "Geçersiz Seçenek...\n",
      "Geçersiz Seçenek...\n",
      "Geçersiz Seçenek...\n",
      "Çıkılıyor...\n",
      "Geçersiz Seçenek...\n",
      "Geçersiz Seçenek...\n",
      "Geçersiz Seçenek...\n"
     ]
    },
    {
     "ename": "",
     "evalue": "",
     "output_type": "error",
     "traceback": [
      "\u001b[1;31mCanceled future for execute_request message before replies were done"
     ]
    },
    {
     "ename": "",
     "evalue": "",
     "output_type": "error",
     "traceback": [
      "\u001b[1;31mGeçerli hücrede veya önceki bir hücrede kod yürütülürken Çekirdek kilitlendi. Hatanın olası nedenini belirlemek için lütfen hücrelerdeki kodu gözden geçirin. Daha fazla bilgi için <a href='https://aka.ms/vscodeJupyterKernelCrash'>buraya</a> tıklayın. Daha fazla ayrıntı için Jupyter <a href='command:jupyter.viewOutput'>günlüğünü</a> görüntüleyin."
     ]
    }
   ],
   "source": [
    "print(\"\"\"********************************\n",
    "İşlem Listesi\n",
    "1. Toplama İşlemi\n",
    "2. Çıkarma İşlemi\n",
    "3. Çarpma İşlemi\n",
    "4. Bölme İşlemi\n",
    "****************************************\n",
    "\"\"\")\n",
    "while True:\n",
    "    islem = input(\"İşlem Seçiniz (Çıkış için 'q' ya basalım): \")\n",
    "    if islem == 'q':\n",
    "        print(\"Çıkılıyor...\")\n",
    "        quit()\n",
    "    elif islem == \"1\":\n",
    "        print(\"------Toplama İşlemi------\")\n",
    "        sayi1 = int(input(\"1.Sayıyı Giriniz: \"))\n",
    "        sayi2 = int(input(\"2.Sayıyı Giriniz: \"))\n",
    "        print(\"{}  +   {}    =  {}\".format(sayi1, sayi2, sayi1+sayi2))\n",
    "    elif islem == \"2\":\n",
    "        print(\"------Çıkarma İşlemi------\")\n",
    "        sayi1 = float(input(\"1.Sayıyı Giriniz: \"))\n",
    "        sayi2 = float(input(\"2.Sayıyı Giriniz: \"))\n",
    "        print(\"{}  -   {}    =  {}\".format(sayi1, sayi2, sayi1-sayi2))\n",
    "    elif islem == \"3\":\n",
    "        print(\"------Çarpma İşlemi------\")\n",
    "        sayi1 = float(input(\"1.Sayıyı Giriniz: \"))\n",
    "        sayi2 = float(input(\"2.Sayıyı Giriniz: \"))\n",
    "        print(\"{}  x   {}    =  {}\".format(sayi1, sayi2, sayi1*sayi2))\n",
    "    elif islem == \"4\":\n",
    "        print(\"------Bölme İşlemi------\")\n",
    "        try:\n",
    "            sayi1 = int(input(\"1.Sayıyı Giriniz: \"))\n",
    "            sayi2 = int(input(\"2.Sayıyı Giriniz: \"))\n",
    "            print(\"{}  /   {}    =  {:.2f}\".format(sayi1, sayi2, sayi1/sayi2))\n",
    "        except ZeroDivisionError:\n",
    "            print(\"Bir sayıyı 0'a bölemezsiniz!\")\n",
    "        except ValueError:\n",
    "            print(\"Lütfen sadece sayı girin!\")\n",
    "    else:\n",
    "        print(\"Geçersiz Seçenek...\")"
   ]
  },
  {
   "cell_type": "code",
   "execution_count": null,
   "metadata": {},
   "outputs": [],
   "source": []
  }
 ],
 "metadata": {
  "kernelspec": {
   "display_name": "Python 3.10.5 64-bit (system)",
   "language": "python",
   "name": "python3"
  },
  "language_info": {
   "codemirror_mode": {
    "name": "ipython",
    "version": 3
   },
   "file_extension": ".py",
   "mimetype": "text/x-python",
   "name": "python",
   "nbconvert_exporter": "python",
   "pygments_lexer": "ipython3",
   "version": "3.10.5"
  },
  "orig_nbformat": 4,
  "vscode": {
   "interpreter": {
    "hash": "fc4cd5f078385289ebaac9d82baab86569e046159478e19b583cbcfd9ef226a0"
   }
  }
 },
 "nbformat": 4,
 "nbformat_minor": 2
}
