{
 "cells": [
  {
   "cell_type": "markdown",
   "metadata": {},
   "source": [
    "NESNE YONELİMLİ PROGRAMLAMA\n",
    "\n",
    "* Eğer iyi bir programcı olmak istiyorsanız nesne tabanlı programlamayı öğrenmek zorundasınız.\n",
    "* Etrafta nesne tabanlı programlama yaklaşımından yararlanılarak yazılmış pek çok kodla karşılaşacaksınız.\n",
    "* Hiç değilse karşılaştığınız bu kodları anlayabilmek için nesne tabanlı programlamayı biliyor ve tanıyor olmanız lazım\n",
    "Aksi halde, bu yöntem kullanılarak geliştirilmiş programları anlayamazsınız.\n",
    "* Mesela, grafik bir arayüze sahip (yani düğmeli, menülü) programların ezici çoğunluğu nesne tabanlı programlama yöntemiyle geliştiriliyor. Grafik arayüz geliştirmenizi sağlayacak araçları tanımanızı, öğrenmenizi sağlayan kitaplar ve makaleler de bu konuları hep nesne tabanlı programlama yaklaşımı üzerinden anlatıyor.\n"
   ]
  },
  {
   "cell_type": "code",
   "execution_count": 5,
   "metadata": {},
   "outputs": [
    {
     "name": "stdout",
     "output_type": "stream",
     "text": [
      "33\n",
      "12\n",
      "45\n",
      "21\n",
      "396\n",
      "35.11409973215888\n"
     ]
    }
   ],
   "source": [
    "class Koordinatlar:\n",
    "    def __init__(self,baslangic_x,baslangic_y):\n",
    "        self.x = baslangic_x\n",
    "        self.y = baslangic_y\n",
    "        \n",
    "    def returnX(self):\n",
    "        return self.x\n",
    "    def returnY(self):\n",
    "        return self.y\n",
    "    def toplama(self):\n",
    "        return self.x + self.y\n",
    "    def cikarma(self):\n",
    "        return self.x - self.y\n",
    "    def carpma(self):\n",
    "        return self.x * self.y\n",
    "    def orjinden_uzaklik(self):\n",
    "        return ((self.x)**2 + (self.y)**2)**0.5\n",
    "        \n",
    "    \n",
    "    \n",
    "a = Koordinatlar(33,12)\n",
    "print(a.returnX())\n",
    "print(a.returnY())\n",
    "print(a.toplama())\n",
    "print(a.cikarma())\n",
    "print(a.carpma())\n",
    "print(a.orjinden_uzaklik())"
   ]
  }
 ],
 "metadata": {
  "interpreter": {
   "hash": "160265b7af79a399b3f76da312c64eea4a4c2e4d00ceab0e9c956ab7cd4e8cd0"
  },
  "kernelspec": {
   "display_name": "Python 3 (ipykernel)",
   "language": "python",
   "name": "python3"
  },
  "language_info": {
   "codemirror_mode": {
    "name": "ipython",
    "version": 3
   },
   "file_extension": ".py",
   "mimetype": "text/x-python",
   "name": "python",
   "nbconvert_exporter": "python",
   "pygments_lexer": "ipython3",
   "version": "3.9.12"
  }
 },
 "nbformat": 4,
 "nbformat_minor": 2
}
